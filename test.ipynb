{
 "cells": [
  {
   "cell_type": "code",
   "execution_count": 1,
   "metadata": {},
   "outputs": [],
   "source": [
    "import numpy as np\n",
    "import networkx as nx\n",
    "import matplotlib.pyplot as plt\n",
    "\n",
    "from pymoo.problems.single.flowshop_scheduling import create_random_flowshop_problem\n",
    "from pymoo.operators.sampling.rnd import PermutationRandomSampling\n",
    "from pymoo.operators.crossover.ox import OrderCrossover\n",
    "from pymoo.operators.mutation.inversion import InversionMutation\n",
    "from pymoo.termination.default import DefaultSingleObjectiveTermination\n",
    "\n",
    "from pymoo.algorithms.soo.nonconvex.ga import GA\n",
    "from pymoo.problems import get_problem\n",
    "from pymoo.optimize import minimize\n",
    "\n"
   ]
  },
  {
   "cell_type": "markdown",
   "metadata": {},
   "source": [
    "# <center> Testando o algoritmo final </center>"
   ]
  },
  {
   "cell_type": "code",
   "execution_count": 2,
   "metadata": {},
   "outputs": [
    {
     "name": "stdout",
     "output_type": "stream",
     "text": [
      "current times:  [102728. 102735. 102735. 102731. 102720. 102731.]\n",
      "current times:  [102729.0, 102736.0, 102736.0, 102732.0, 102721.0, 102732.0]\n",
      "current times:  [208101.0, 208111.0, 208093.0, 208111.0, 208104.0, 208104.0]\n"
     ]
    }
   ],
   "source": [
    "from pymoo.algorithms.soo.nonconvex.ga import GA\n",
    "from pymoo.optimize import minimize\n",
    "\n",
    "from CustomOperators import *\n",
    "from QAOAproblems import *\n",
    "\n",
    "from QCCP import QCCP\n",
    "\n",
    "from pymoo.config import Config\n",
    "Config.warnings['not_compiled'] = False\n",
    "\n",
    "\n",
    "algorithm = GA(\n",
    "    pop_size=20,\n",
    "    eliminate_duplicates=False, # Tem um bug mt estranho aqui...\n",
    "    sampling=QAOASampling(),\n",
    "    mutation=QAOAMutation(),\n",
    "    crossover=QAOAPMX()\n",
    ")\n",
    "\n",
    "graph = nx.Graph()\n",
    "#nodes = [0, 1, 2]\n",
    "#edges = [(0, 1), (1, 2), (2, 0)]\n",
    "nodes = [0, 1, 2, 3, 4, 5]\n",
    "edges = [(0, 1), (1, 2), (2, 0), (5,0), (4,5), (3,5), (1,3)]\n",
    "graph.add_nodes_from(nodes)\n",
    "graph.add_edges_from(edges)\n",
    "\n",
    "x = [0,0,0]\n",
    "\n",
    "#termination = DefaultSingleObjectiveTermination(period=50, n_max_gen=10000)\n",
    "\n",
    "r = 3\n",
    "\n",
    "problem = QAOAmaxcut(graph=graph)\n",
    "\n",
    "algorithm = GA(pop_size=50,\n",
    "               sampling=QAOASampling(),\n",
    "               crossover = QAOAPMX(),\n",
    "               mutation= QAOAMutation(),\n",
    "               eliminate_duplicates= QAOADuplicateElimination())\n",
    "\n",
    "#build QCCP:\n",
    "experiment = QCCP(graph,\n",
    "                  problem,\n",
    "                  algorithm,\n",
    "                  r = 3)\n",
    "\n",
    "schedule = experiment.get_machine_schedule()"
   ]
  },
  {
   "cell_type": "code",
   "execution_count": null,
   "metadata": {},
   "outputs": [],
   "source": [
    "\n",
    "graph = nx.Graph()\n",
    "nodes = [0, 1, 2]\n",
    "edges = [(0, 1), (1, 2), (2, 0)]\n",
    "graph.add_nodes_from(nodes)\n",
    "graph.add_edges_from(edges)\n",
    "ch1 = [(1, 2), (0, 1), (0, 2)] \n",
    "ch2 = [(10, 12), (12, 15), (4, 7)] \n",
    "\n",
    "x = [0,0,0]\n",
    "problem = QAOAmaxcut(graph, current_time=x)\n",
    "problem.decoding(ch1, ch2)"
   ]
  }
 ],
 "metadata": {
  "kernelspec": {
   "display_name": "Python 3",
   "language": "python",
   "name": "python3"
  },
  "language_info": {
   "codemirror_mode": {
    "name": "ipython",
    "version": 3
   },
   "file_extension": ".py",
   "mimetype": "text/x-python",
   "name": "python",
   "nbconvert_exporter": "python",
   "pygments_lexer": "ipython3",
   "version": "3.12.3"
  }
 },
 "nbformat": 4,
 "nbformat_minor": 2
}
